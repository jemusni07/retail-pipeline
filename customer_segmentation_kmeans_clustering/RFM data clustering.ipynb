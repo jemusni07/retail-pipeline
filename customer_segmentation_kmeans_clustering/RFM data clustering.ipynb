{
 "cells": [
  {
   "cell_type": "markdown",
   "metadata": {
    "application/vnd.databricks.v1+cell": {
     "cellMetadata": {
      "byteLimit": 2048000,
      "rowLimit": 10000
     },
     "inputWidgets": {},
     "nuid": "010e6a4f-1fd4-4ed4-bcae-8bd98ce3bdcc",
     "showTitle": false,
     "tableResultSettingsMap": {},
     "title": ""
    }
   },
   "source": [
    "# Customer RFM(Recency Frequency and Monetary value) Segmentation Using K Means Clustering"
   ]
  },
  {
   "cell_type": "markdown",
   "metadata": {
    "application/vnd.databricks.v1+cell": {
     "cellMetadata": {
      "byteLimit": 2048000,
      "rowLimit": 10000
     },
     "inputWidgets": {},
     "nuid": "2bcea27d-72d8-4727-aeef-1fe3ec9e5a13",
     "showTitle": false,
     "tableResultSettingsMap": {},
     "title": ""
    }
   },
   "source": [
    "\n",
    "Data Source: \n",
    "  - Catalog: retail_analytics\n",
    "  - Schema: dlt\n",
    "  - Table: customer_rfm_gold"
   ]
  },
  {
   "cell_type": "code",
   "execution_count": 0,
   "metadata": {
    "application/vnd.databricks.v1+cell": {
     "cellMetadata": {
      "byteLimit": 2048000,
      "rowLimit": 10000
     },
     "inputWidgets": {},
     "nuid": "6cf6e562-4bd9-4b39-bc9a-e7bb70d0aeca",
     "showTitle": false,
     "tableResultSettingsMap": {},
     "title": ""
    }
   },
   "outputs": [],
   "source": [
    "%pip install threadpoolctl==3.1.0 --quiet\n",
    "dbutils.library.restartPython()"
   ]
  },
  {
   "cell_type": "markdown",
   "metadata": {
    "application/vnd.databricks.v1+cell": {
     "cellMetadata": {
      "byteLimit": 2048000,
      "rowLimit": 10000
     },
     "inputWidgets": {},
     "nuid": "f6411b8d-9e65-450c-b775-92f43efbdc23",
     "showTitle": false,
     "tableResultSettingsMap": {},
     "title": ""
    }
   },
   "source": [
    "##Library Imports"
   ]
  },
  {
   "cell_type": "code",
   "execution_count": 0,
   "metadata": {
    "application/vnd.databricks.v1+cell": {
     "cellMetadata": {
      "byteLimit": 2048000,
      "rowLimit": 10000
     },
     "inputWidgets": {},
     "nuid": "2ef9581e-83b0-4fc1-975e-75520f5948e7",
     "showTitle": false,
     "tableResultSettingsMap": {},
     "title": ""
    }
   },
   "outputs": [],
   "source": [
    "\n",
    "import os\n",
    "os.environ['THREADPOOLCTL_VERBOSE'] = '0'\n",
    "os.environ['OMP_NUM_THREADS'] = '1'\n",
    "\n",
    "import warnings\n",
    "warnings.filterwarnings('ignore')\n",
    "\n",
    "from sklearn.cluster import KMeans\n",
    "from sklearn.metrics import silhouette_score\n",
    "import matplotlib.pyplot as plt\n",
    "import seaborn as sns"
   ]
  },
  {
   "cell_type": "markdown",
   "metadata": {
    "application/vnd.databricks.v1+cell": {
     "cellMetadata": {
      "byteLimit": 2048000,
      "rowLimit": 10000
     },
     "inputWidgets": {},
     "nuid": "ace82eaf-add7-4bba-83d8-3f3b37bd032f",
     "showTitle": false,
     "tableResultSettingsMap": {},
     "title": ""
    }
   },
   "source": [
    "## EDA"
   ]
  },
  {
   "cell_type": "code",
   "execution_count": 0,
   "metadata": {
    "application/vnd.databricks.v1+cell": {
     "cellMetadata": {
      "byteLimit": 2048000,
      "rowLimit": 10000
     },
     "inputWidgets": {},
     "nuid": "ca233c41-27d3-4eac-83e9-d96754b93463",
     "showTitle": false,
     "tableResultSettingsMap": {},
     "title": ""
    }
   },
   "outputs": [],
   "source": [
    "df = spark.read.table(\"retail_analytics.dlt.customer_rfm_gold\").toPandas()"
   ]
  },
  {
   "cell_type": "markdown",
   "metadata": {
    "application/vnd.databricks.v1+cell": {
     "cellMetadata": {
      "byteLimit": 2048000,
      "rowLimit": 10000
     },
     "inputWidgets": {},
     "nuid": "25108cb5-7dc2-44b7-9e2f-6f3416d6bfd7",
     "showTitle": false,
     "tableResultSettingsMap": {},
     "title": ""
    }
   },
   "source": [
    "### RFM Distribution"
   ]
  },
  {
   "cell_type": "code",
   "execution_count": 0,
   "metadata": {
    "application/vnd.databricks.v1+cell": {
     "cellMetadata": {
      "byteLimit": 2048000,
      "rowLimit": 10000
     },
     "inputWidgets": {},
     "nuid": "11d38a29-5803-407e-9135-fcd314a27c64",
     "showTitle": false,
     "tableResultSettingsMap": {},
     "title": ""
    }
   },
   "outputs": [],
   "source": [
    "plt.figure(figsize=(15, 5))\n",
    "\n",
    "plt.subplot(1, 3, 1)\n",
    "plt.hist(df['Monetary'], bins=10, color='skyblue', edgecolor='black')\n",
    "plt.title('Monetary Value Distribution')\n",
    "plt.xlabel('Monetary Value')\n",
    "plt.ylabel('Count')\n",
    "\n",
    "plt.subplot(1, 3, 2)\n",
    "plt.hist(df['Frequency'], bins=10, color='lightgreen', edgecolor='black')\n",
    "plt.title('Frequency Distribution')\n",
    "plt.xlabel('Frequency')\n",
    "plt.ylabel('Count')\n",
    "\n",
    "plt.subplot(1, 3, 3)\n",
    "plt.hist(df['Recency'], bins=20, color='salmon', edgecolor='black')\n",
    "plt.title('Recency Distribution')\n",
    "plt.xlabel('Recency')\n",
    "plt.ylabel('Count')\n",
    "\n",
    "plt.tight_layout()\n",
    "plt.show()"
   ]
  },
  {
   "cell_type": "markdown",
   "metadata": {
    "application/vnd.databricks.v1+cell": {
     "cellMetadata": {
      "byteLimit": 2048000,
      "rowLimit": 10000
     },
     "inputWidgets": {},
     "nuid": "ad174695-c1e6-45ba-9b6e-47a394dd5f11",
     "showTitle": false,
     "tableResultSettingsMap": {},
     "title": ""
    }
   },
   "source": [
    "### Boxplot"
   ]
  },
  {
   "cell_type": "code",
   "execution_count": 0,
   "metadata": {
    "application/vnd.databricks.v1+cell": {
     "cellMetadata": {
      "byteLimit": 2048000,
      "rowLimit": 10000
     },
     "inputWidgets": {},
     "nuid": "6b59553e-b73d-446c-b4b1-66823cb49fe4",
     "showTitle": false,
     "tableResultSettingsMap": {},
     "title": ""
    }
   },
   "outputs": [],
   "source": [
    "plt.figure(figsize=(15, 5))\n",
    "\n",
    "plt.subplot(1, 3, 1)\n",
    "sns.boxplot(data=df['Monetary'], color='skyblue')\n",
    "plt.title('Monetary Value Boxplot')\n",
    "plt.xlabel('Monetary Value')\n",
    "\n",
    "plt.subplot(1, 3, 2)\n",
    "sns.boxplot(data=df['Frequency'], color='lightgreen')\n",
    "plt.title('Frequency Boxplot')\n",
    "plt.xlabel('Frequency')\n",
    "\n",
    "plt.subplot(1, 3, 3)\n",
    "sns.boxplot(data=df['Recency'], color='salmon')\n",
    "plt.title('Recency Boxplot')\n",
    "plt.xlabel('Recency')\n",
    "\n",
    "plt.tight_layout()\n",
    "plt.show()"
   ]
  },
  {
   "cell_type": "markdown",
   "metadata": {
    "application/vnd.databricks.v1+cell": {
     "cellMetadata": {
      "byteLimit": 2048000,
      "rowLimit": 10000
     },
     "inputWidgets": {},
     "nuid": "b59c4431-6d9b-4863-ac8a-4c3c3765c1ba",
     "showTitle": false,
     "tableResultSettingsMap": {},
     "title": ""
    }
   },
   "source": [
    "### Separating the Outliers From the Non outliers\n",
    "\n",
    "K Means clustering does not do well with including outliers\n",
    "\n",
    "It is sensitive to outliers because:\n",
    "\n",
    "- It uses squared Euclidean distance in its objective function, which heavily penalizes points far from cluster centers\n",
    "- Outliers can \"pull\" cluster centroids away from the true center of the main data groups\n",
    "- The algorithm tries to minimize within-cluster sum of squares, so extreme values have disproportionate influence"
   ]
  },
  {
   "cell_type": "code",
   "execution_count": 0,
   "metadata": {
    "application/vnd.databricks.v1+cell": {
     "cellMetadata": {
      "byteLimit": 2048000,
      "rowLimit": 10000
     },
     "inputWidgets": {},
     "nuid": "aeb1fbf2-7a3f-4217-b5b1-8b2c8f288942",
     "showTitle": false,
     "tableResultSettingsMap": {},
     "title": ""
    }
   },
   "outputs": [],
   "source": [
    "df[\"Monetary\"] = df[\"Monetary\"].astype(float)\n",
    "\n",
    "M_Q1 = df[\"Monetary\"].quantile(0.25)\n",
    "M_Q3 = df[\"Monetary\"].quantile(0.75)\n",
    "M_IQR = M_Q3 - M_Q1\n",
    "\n",
    "monetary_outliers_df = df[\n",
    "    (df[\"Monetary\"] > (M_Q3 + 1.5 * M_IQR)) | \n",
    "    (df[\"Monetary\"] < (M_Q1 - 1.5 * M_IQR))\n",
    "].copy()\n",
    "\n",
    "monetary_outliers_df.describe()"
   ]
  },
  {
   "cell_type": "code",
   "execution_count": 0,
   "metadata": {
    "application/vnd.databricks.v1+cell": {
     "cellMetadata": {
      "byteLimit": 2048000,
      "rowLimit": 10000
     },
     "inputWidgets": {},
     "nuid": "037c987d-6abb-4df8-bd64-eb7df74ee7c8",
     "showTitle": false,
     "tableResultSettingsMap": {},
     "title": ""
    }
   },
   "outputs": [],
   "source": [
    "F_Q1 = df['Frequency'].quantile(0.25)\n",
    "F_Q3 = df['Frequency'].quantile(0.75)\n",
    "F_IQR = F_Q3 - F_Q1\n",
    "\n",
    "frequency_outliers_df = df[(df['Frequency'] > (F_Q3 + 1.5 * F_IQR)) | (df['Frequency'] < (F_Q1 - 1.5 * F_IQR))].copy()\n",
    "\n",
    "frequency_outliers_df.describe()"
   ]
  },
  {
   "cell_type": "code",
   "execution_count": 0,
   "metadata": {
    "application/vnd.databricks.v1+cell": {
     "cellMetadata": {
      "byteLimit": 2048000,
      "rowLimit": 10000
     },
     "inputWidgets": {},
     "nuid": "afab20d3-d1b0-461d-884e-ad0ec3cd5ff2",
     "showTitle": false,
     "tableResultSettingsMap": {},
     "title": ""
    }
   },
   "outputs": [],
   "source": [
    "non_outliers_df = df[(~df.index.isin(monetary_outliers_df.index)) & (~df.index.isin(frequency_outliers_df.index))]\n",
    "\n",
    "non_outliers_df.describe()"
   ]
  },
  {
   "cell_type": "markdown",
   "metadata": {
    "application/vnd.databricks.v1+cell": {
     "cellMetadata": {
      "byteLimit": 2048000,
      "rowLimit": 10000
     },
     "inputWidgets": {},
     "nuid": "c835e026-1c64-44a3-a2e9-0254e363ee29",
     "showTitle": false,
     "tableResultSettingsMap": {},
     "title": ""
    }
   },
   "source": [
    "### Boxplot for Non Outliers Dataset"
   ]
  },
  {
   "cell_type": "code",
   "execution_count": 0,
   "metadata": {
    "application/vnd.databricks.v1+cell": {
     "cellMetadata": {
      "byteLimit": 2048000,
      "rowLimit": 10000
     },
     "inputWidgets": {},
     "nuid": "c773ad5e-555d-4bf7-ba8b-0f6eefeb3634",
     "showTitle": false,
     "tableResultSettingsMap": {},
     "title": ""
    }
   },
   "outputs": [],
   "source": [
    "plt.figure(figsize=(15, 5))\n",
    "\n",
    "plt.subplot(1, 3, 1)\n",
    "sns.boxplot(data=non_outliers_df['Monetary'], color='skyblue')\n",
    "plt.title('Monetary Value Boxplot')\n",
    "plt.xlabel('Monetary Value')\n",
    "\n",
    "plt.subplot(1, 3, 2)\n",
    "sns.boxplot(data=non_outliers_df['Frequency'], color='lightgreen')\n",
    "plt.title('Frequency Boxplot')\n",
    "plt.xlabel('Frequency')\n",
    "\n",
    "plt.subplot(1, 3, 3)\n",
    "sns.boxplot(data=non_outliers_df['Recency'], color='salmon')\n",
    "plt.title('Recency Boxplot')\n",
    "plt.xlabel('Recency')\n",
    "\n",
    "plt.tight_layout()\n",
    "plt.show()"
   ]
  },
  {
   "cell_type": "markdown",
   "metadata": {
    "application/vnd.databricks.v1+cell": {
     "cellMetadata": {
      "byteLimit": 2048000,
      "rowLimit": 10000
     },
     "inputWidgets": {},
     "nuid": "8a8f7623-db19-498b-962f-1345258a1d92",
     "showTitle": false,
     "tableResultSettingsMap": {},
     "title": ""
    }
   },
   "source": [
    "### Plotting Customer RFM"
   ]
  },
  {
   "cell_type": "code",
   "execution_count": 0,
   "metadata": {
    "application/vnd.databricks.v1+cell": {
     "cellMetadata": {
      "byteLimit": 2048000,
      "rowLimit": 10000
     },
     "inputWidgets": {},
     "nuid": "d11a2e51-883b-46eb-9287-26a5c58eae7a",
     "showTitle": false,
     "tableResultSettingsMap": {},
     "title": ""
    }
   },
   "outputs": [],
   "source": [
    "fig = plt.figure(figsize=(8, 8))\n",
    "\n",
    "ax = fig.add_subplot(projection=\"3d\")\n",
    "\n",
    "scatter = ax.scatter(non_outliers_df[\"Monetary\"], non_outliers_df[\"Frequency\"], non_outliers_df[\"Recency\"])\n",
    "\n",
    "ax.set_xlabel('Monetary Value')\n",
    "ax.set_ylabel('Frequency')\n",
    "ax.set_zlabel('Recency')\n",
    "\n",
    "ax.set_title('3D Scatter Plot of Customer Data')\n",
    "\n",
    "plt.show()"
   ]
  },
  {
   "cell_type": "markdown",
   "metadata": {
    "application/vnd.databricks.v1+cell": {
     "cellMetadata": {
      "byteLimit": 2048000,
      "rowLimit": 10000
     },
     "inputWidgets": {},
     "nuid": "5b349245-6e50-492e-8df6-91a1b7ea10e7",
     "showTitle": false,
     "tableResultSettingsMap": {},
     "title": ""
    }
   },
   "source": [
    "### Applying Standard Scaler"
   ]
  },
  {
   "cell_type": "code",
   "execution_count": 0,
   "metadata": {
    "application/vnd.databricks.v1+cell": {
     "cellMetadata": {
      "byteLimit": 2048000,
      "rowLimit": 10000
     },
     "inputWidgets": {},
     "nuid": "514499e9-b1aa-4188-a94a-00fcb75fd276",
     "showTitle": false,
     "tableResultSettingsMap": {},
     "title": ""
    }
   },
   "outputs": [],
   "source": [
    "from sklearn.cluster import KMeans\n",
    "from sklearn.metrics import silhouette_score\n",
    "from sklearn.preprocessing import StandardScaler\n",
    "import pandas as pd\n",
    "\n",
    "scaler = StandardScaler()\n",
    "\n",
    "scaled_data = scaler.fit_transform(non_outliers_df[[\"Monetary\", \"Frequency\", \"Recency\"]])\n",
    "\n",
    "scaled_data"
   ]
  },
  {
   "cell_type": "code",
   "execution_count": 0,
   "metadata": {
    "application/vnd.databricks.v1+cell": {
     "cellMetadata": {
      "byteLimit": 2048000,
      "rowLimit": 10000
     },
     "inputWidgets": {},
     "nuid": "b47f2996-1daf-44c2-a291-49e1db1b9f9a",
     "showTitle": false,
     "tableResultSettingsMap": {},
     "title": ""
    }
   },
   "outputs": [],
   "source": [
    "scaled_data_df = pd.DataFrame(scaled_data, index=non_outliers_df.index, columns=(\"Monetary\", \"Frequency\", \"Recency\"))\n",
    "\n",
    "scaled_data_df"
   ]
  },
  {
   "cell_type": "markdown",
   "metadata": {
    "application/vnd.databricks.v1+cell": {
     "cellMetadata": {
      "byteLimit": 2048000,
      "rowLimit": 10000
     },
     "inputWidgets": {},
     "nuid": "76d6500b-2ca1-465c-9e29-4828e700a956",
     "showTitle": false,
     "tableResultSettingsMap": {},
     "title": ""
    }
   },
   "source": [
    "### Scatter Plot After Standard Scaler"
   ]
  },
  {
   "cell_type": "code",
   "execution_count": 0,
   "metadata": {
    "application/vnd.databricks.v1+cell": {
     "cellMetadata": {
      "byteLimit": 2048000,
      "rowLimit": 10000
     },
     "inputWidgets": {},
     "nuid": "d29948bb-3714-45d3-a2e9-fb539d57cad2",
     "showTitle": false,
     "tableResultSettingsMap": {},
     "title": ""
    }
   },
   "outputs": [],
   "source": [
    "fig = plt.figure(figsize=(8, 8))\n",
    "\n",
    "ax = fig.add_subplot(projection=\"3d\")\n",
    "\n",
    "scatter = ax.scatter(scaled_data_df[\"Monetary\"], scaled_data_df[\"Frequency\"], scaled_data_df[\"Recency\"])\n",
    "\n",
    "ax.set_xlabel('Monetary Value')\n",
    "ax.set_ylabel('Frequency')\n",
    "ax.set_zlabel('Recency')\n",
    "\n",
    "ax.set_title('3D Scatter Plot of Customer Data')\n",
    "\n",
    "plt.show()"
   ]
  },
  {
   "cell_type": "markdown",
   "metadata": {
    "application/vnd.databricks.v1+cell": {
     "cellMetadata": {
      "byteLimit": 2048000,
      "rowLimit": 10000
     },
     "inputWidgets": {},
     "nuid": "9399133d-a0ed-409d-a281-7648baca7314",
     "showTitle": false,
     "tableResultSettingsMap": {},
     "title": ""
    }
   },
   "source": [
    "### K Means Clustering\n",
    "\n",
    "Finding the right number of clusters is automated within the script using elbow point and silhoutte scores."
   ]
  },
  {
   "cell_type": "code",
   "execution_count": 0,
   "metadata": {
    "application/vnd.databricks.v1+cell": {
     "cellMetadata": {
      "byteLimit": 2048000,
      "rowLimit": 10000
     },
     "inputWidgets": {},
     "nuid": "091cb63c-b842-45db-a79a-f73d2d68dbf1",
     "showTitle": false,
     "tableResultSettingsMap": {},
     "title": ""
    }
   },
   "outputs": [],
   "source": [
    "import warnings\n",
    "import os\n",
    "import numpy as np\n",
    "from sklearn.cluster import KMeans\n",
    "from sklearn.metrics import silhouette_score\n",
    "import matplotlib.pyplot as plt\n",
    "\n",
    "# Suppress warnings\n",
    "warnings.filterwarnings('ignore', category=UserWarning, module='threadpoolctl')\n",
    "os.environ['OMP_NUM_THREADS'] = '1'\n",
    "\n",
    "def find_elbow_point(k_values, inertia_values):\n",
    "    \"\"\"\n",
    "    Find the elbow point using the \"elbow method\" - point of maximum curvature\n",
    "    \"\"\"\n",
    "    # Calculate the differences\n",
    "    diffs = np.diff(inertia_values)\n",
    "    diffs2 = np.diff(diffs)\n",
    "    \n",
    "    # Find the point where the second derivative is maximum (most curvature)\n",
    "    # Add 2 to account for the fact that we start from k=2 and lose 2 points in double diff\n",
    "    elbow_idx = np.argmax(diffs2) + 2\n",
    "    elbow_k = k_values[elbow_idx]\n",
    "    \n",
    "    return elbow_k\n",
    "\n",
    "def calculate_elbow_score(k_values, inertia_values):\n",
    "    \"\"\"\n",
    "    Calculate elbow score using the distance from the line connecting first and last points\n",
    "    \"\"\"\n",
    "    # Normalize the data\n",
    "    k_norm = np.array(k_values) - k_values[0]\n",
    "    k_norm = k_norm / k_norm[-1]\n",
    "    \n",
    "    inertia_norm = np.array(inertia_values) - inertia_values[-1]\n",
    "    inertia_norm = inertia_norm / (inertia_values[0] - inertia_values[-1])\n",
    "    \n",
    "    # Calculate distance from each point to the line connecting first and last points\n",
    "    distances = []\n",
    "    for i in range(len(k_norm)):\n",
    "        # Distance from point to line (perpendicular distance)\n",
    "        distance = abs(k_norm[i] + inertia_norm[i] - 1) / np.sqrt(2)\n",
    "        distances.append(distance)\n",
    "    \n",
    "    return distances\n",
    "\n",
    "def find_optimal_k_combined(scaled_data, max_k=12, silhouette_weight=0.6, elbow_weight=0.4):\n",
    "    \"\"\"\n",
    "    Find optimal k using both silhouette score and elbow method\n",
    "    \"\"\"\n",
    "    k_values = list(range(2, max_k + 1))\n",
    "    results = []\n",
    "    \n",
    "    print(\"Evaluating different k values...\")\n",
    "    print(\"-\" * 60)\n",
    "    \n",
    "    for k in k_values:\n",
    "        kmeans = KMeans(n_clusters=k, random_state=42, max_iter=1000, n_init='auto')\n",
    "        cluster_labels = kmeans.fit_predict(scaled_data)\n",
    "        sil_score = silhouette_score(scaled_data, cluster_labels)\n",
    "        \n",
    "        results.append({\n",
    "            'k': k,\n",
    "            'silhouette_score': sil_score,\n",
    "            'inertia': kmeans.inertia_,\n",
    "            'model': kmeans,\n",
    "            'labels': cluster_labels\n",
    "        })\n",
    "        \n",
    "        print(f\"k={k:2d}: Silhouette={sil_score:.3f}, Inertia={kmeans.inertia_:.0f}\")\n",
    "    \n",
    "    # Extract values for analysis\n",
    "    silhouette_scores = [r['silhouette_score'] for r in results]\n",
    "    inertia_values = [r['inertia'] for r in results]\n",
    "    \n",
    "    # Find elbow point using curvature method\n",
    "    elbow_k_curvature = find_elbow_point(k_values, inertia_values)\n",
    "    \n",
    "    # Calculate elbow scores (distance from line)\n",
    "    elbow_distances = calculate_elbow_score(k_values, inertia_values)\n",
    "    elbow_k_distance = k_values[np.argmax(elbow_distances)]\n",
    "    \n",
    "    # Find best silhouette score\n",
    "    silhouette_k = k_values[np.argmax(silhouette_scores)]\n",
    "    \n",
    "    # Normalize scores for combination\n",
    "    silhouette_normalized = np.array(silhouette_scores) / max(silhouette_scores)\n",
    "    elbow_normalized = np.array(elbow_distances) / max(elbow_distances)\n",
    "    \n",
    "    # Combined score\n",
    "    combined_scores = (silhouette_weight * silhouette_normalized + \n",
    "                      elbow_weight * elbow_normalized)\n",
    "    \n",
    "    optimal_k_combined = k_values[np.argmax(combined_scores)]\n",
    "    \n",
    "    print(\"\\n\" + \"=\" * 60)\n",
    "    print(\"OPTIMAL K ANALYSIS:\")\n",
    "    print(\"=\" * 60)\n",
    "    print(f\"Best k by Silhouette Score: {silhouette_k} (score: {max(silhouette_scores):.3f})\")\n",
    "    print(f\"Best k by Elbow Method (curvature): {elbow_k_curvature}\")\n",
    "    print(f\"Best k by Elbow Method (distance): {elbow_k_distance}\")\n",
    "    print(f\"Best k by Combined Method: {optimal_k_combined}\")\n",
    "    print(f\"  - Silhouette weight: {silhouette_weight}\")\n",
    "    print(f\"  - Elbow weight: {elbow_weight}\")\n",
    "    print(f\"  - Combined score: {max(combined_scores):.3f}\")\n",
    "    \n",
    "    return results, {\n",
    "        'optimal_k': optimal_k_combined,\n",
    "        'silhouette_k': silhouette_k,\n",
    "        'elbow_k_curvature': elbow_k_curvature,\n",
    "        'elbow_k_distance': elbow_k_distance,\n",
    "        'combined_scores': combined_scores,\n",
    "        'silhouette_scores': silhouette_scores,\n",
    "        'inertia_values': inertia_values,\n",
    "        'elbow_distances': elbow_distances\n",
    "    }\n",
    "\n",
    "# Run the combined analysis\n",
    "all_results, analysis = find_optimal_k_combined(scaled_data_df, max_k=12)\n",
    "\n",
    "# Get the data for plotting\n",
    "k_values = [r['k'] for r in all_results]\n",
    "silhouette_scores = analysis['silhouette_scores']\n",
    "inertia_values = analysis['inertia_values']\n",
    "elbow_distances = analysis['elbow_distances']\n",
    "combined_scores = analysis['combined_scores']\n",
    "\n",
    "optimal_k = analysis['optimal_k']\n",
    "silhouette_k = analysis['silhouette_k']\n",
    "elbow_k_curvature = analysis['elbow_k_curvature']\n",
    "elbow_k_distance = analysis['elbow_k_distance']\n",
    "\n",
    "# Create comprehensive plots\n",
    "fig, axes = plt.subplots(2, 2, figsize=(16, 12))\n",
    "\n",
    "# 1. Elbow Plot\n",
    "axes[0, 0].plot(k_values, inertia_values, marker='o', linewidth=2, markersize=8)\n",
    "axes[0, 0].scatter(elbow_k_curvature, inertia_values[k_values.index(elbow_k_curvature)], \n",
    "                   color='red', s=100, zorder=5, label=f'Elbow (curvature): k={elbow_k_curvature}')\n",
    "axes[0, 0].scatter(elbow_k_distance, inertia_values[k_values.index(elbow_k_distance)], \n",
    "                   color='orange', s=100, zorder=5, label=f'Elbow (distance): k={elbow_k_distance}')\n",
    "axes[0, 0].set_title('Elbow Method - Inertia vs k')\n",
    "axes[0, 0].set_xlabel('Number of Clusters (k)')\n",
    "axes[0, 0].set_ylabel('Inertia')\n",
    "axes[0, 0].grid(True)\n",
    "axes[0, 0].legend()\n",
    "axes[0, 0].set_xticks(k_values)\n",
    "\n",
    "# 2. Silhouette Plot\n",
    "axes[0, 1].plot(k_values, silhouette_scores, marker='o', color='orange', linewidth=2, markersize=8)\n",
    "axes[0, 1].scatter(silhouette_k, max(silhouette_scores), \n",
    "                   color='red', s=100, zorder=5, label=f'Best Silhouette: k={silhouette_k}')\n",
    "axes[0, 1].set_title('Silhouette Score vs k')\n",
    "axes[0, 1].set_xlabel('Number of Clusters (k)')\n",
    "axes[0, 1].set_ylabel('Silhouette Score')\n",
    "axes[0, 1].grid(True)\n",
    "axes[0, 1].legend()\n",
    "axes[0, 1].set_xticks(k_values)\n",
    "\n",
    "# 3. Elbow Distance Plot\n",
    "axes[1, 0].plot(k_values, elbow_distances, marker='s', color='green', linewidth=2, markersize=8)\n",
    "axes[1, 0].scatter(elbow_k_distance, max(elbow_distances), \n",
    "                   color='red', s=100, zorder=5, label=f'Max Distance: k={elbow_k_distance}')\n",
    "axes[1, 0].set_title('Elbow Method - Distance from Line')\n",
    "axes[1, 0].set_xlabel('Number of Clusters (k)')\n",
    "axes[1, 0].set_ylabel('Distance from Line')\n",
    "axes[1, 0].grid(True)\n",
    "axes[1, 0].legend()\n",
    "axes[1, 0].set_xticks(k_values)\n",
    "\n",
    "# 4. Combined Score Plot\n",
    "axes[1, 1].plot(k_values, combined_scores, marker='*', color='purple', linewidth=2, markersize=10)\n",
    "axes[1, 1].scatter(optimal_k, max(combined_scores), \n",
    "                   color='red', s=150, zorder=5, label=f'Optimal k: {optimal_k}')\n",
    "axes[1, 1].set_title('Combined Score (Silhouette + Elbow)')\n",
    "axes[1, 1].set_xlabel('Number of Clusters (k)')\n",
    "axes[1, 1].set_ylabel('Combined Score')\n",
    "axes[1, 1].grid(True)\n",
    "axes[1, 1].legend()\n",
    "axes[1, 1].set_xticks(k_values)\n",
    "\n",
    "plt.tight_layout()\n",
    "plt.show()\n",
    "\n",
    "# Final clustering with optimal k\n",
    "print(f\"\\n🔄 Running final clustering with optimal k={optimal_k}...\")\n",
    "final_result = all_results[k_values.index(optimal_k)]\n",
    "final_cluster_labels = final_result['labels']\n",
    "final_kmeans = final_result['model']\n",
    "\n",
    "print(f\"\\n📊 Final Clustering Results:\")\n",
    "print(f\"Optimal k: {optimal_k}\")\n",
    "print(f\"Silhouette score: {final_result['silhouette_score']:.3f}\")\n",
    "print(f\"Inertia: {final_result['inertia']:.0f}\")\n",
    "\n",
    "# Cluster distribution\n",
    "unique, counts = np.unique(final_cluster_labels, return_counts=True)\n",
    "print(f\"\\nCluster Distribution:\")\n",
    "for cluster_id, count in zip(unique, counts):\n",
    "    percentage = (count / len(final_cluster_labels)) * 100\n",
    "    print(f\"  Cluster {cluster_id}: {count:4d} samples ({percentage:5.1f}%)\")\n",
    "\n",
    "print(f\"\\n✅ Combined optimal clustering completed!\") \n",
    "print(f\"Used weights: Silhouette={analysis['silhouette_scores'][k_values.index(optimal_k)]:.3f}, Elbow contribution\")"
   ]
  },
  {
   "cell_type": "code",
   "execution_count": 0,
   "metadata": {
    "application/vnd.databricks.v1+cell": {
     "cellMetadata": {
      "byteLimit": 2048000,
      "rowLimit": 10000
     },
     "inputWidgets": {},
     "nuid": "847fb4c1-2401-4b87-bc7c-66031dca0c76",
     "showTitle": false,
     "tableResultSettingsMap": {},
     "title": ""
    }
   },
   "outputs": [],
   "source": [
    "optimal_k = analysis['optimal_k']\n",
    "\n",
    "# Create and train the final model with optimal k\n",
    "final_kmeans = KMeans(n_clusters=optimal_k, random_state=42, max_iter=1000, n_init='auto')\n",
    "final_cluster_labels = final_kmeans.fit_predict(scaled_data_df)\n",
    "\n",
    "print(f\"✅ Final clustering completed with optimal k={optimal_k}\")\n",
    "print(f\"Cluster labels shape: {final_cluster_labels.shape}\")\n",
    "print(f\"Unique clusters: {np.unique(final_cluster_labels)}\")"
   ]
  },
  {
   "cell_type": "code",
   "execution_count": 0,
   "metadata": {
    "application/vnd.databricks.v1+cell": {
     "cellMetadata": {
      "byteLimit": 2048000,
      "rowLimit": 10000
     },
     "inputWidgets": {},
     "nuid": "2a70d83b-c223-4ecb-8a06-3f2ab4da18f7",
     "showTitle": false,
     "tableResultSettingsMap": {},
     "title": ""
    }
   },
   "outputs": [],
   "source": [
    "non_outliers_df[\"Cluster\"] = final_cluster_labels\n",
    "\n",
    "non_outliers_df"
   ]
  },
  {
   "cell_type": "markdown",
   "metadata": {
    "application/vnd.databricks.v1+cell": {
     "cellMetadata": {
      "byteLimit": 2048000,
      "rowLimit": 10000
     },
     "inputWidgets": {},
     "nuid": "b5fc9a3d-c549-4a3a-983d-76033be4740b",
     "showTitle": false,
     "tableResultSettingsMap": {},
     "title": ""
    }
   },
   "source": [
    "### Scatter plot with the labeled clusters"
   ]
  },
  {
   "cell_type": "code",
   "execution_count": 0,
   "metadata": {
    "application/vnd.databricks.v1+cell": {
     "cellMetadata": {
      "byteLimit": 2048000,
      "rowLimit": 10000
     },
     "inputWidgets": {},
     "nuid": "fc00eab3-1f69-406b-bf48-1f14cd77ba48",
     "showTitle": false,
     "tableResultSettingsMap": {},
     "title": ""
    }
   },
   "outputs": [],
   "source": [
    "clusters_data = non_outliers_df[['Monetary', 'Frequency', 'Recency', 'Cluster']].to_dict('records')"
   ]
  },
  {
   "cell_type": "code",
   "execution_count": 0,
   "metadata": {
    "application/vnd.databricks.v1+cell": {
     "cellMetadata": {
      "byteLimit": 2048000,
      "rowLimit": 10000
     },
     "inputWidgets": {},
     "nuid": "07bc173a-2baf-45da-b2ab-cf66e482b016",
     "showTitle": false,
     "tableResultSettingsMap": {},
     "title": ""
    }
   },
   "outputs": [],
   "source": [
    "import plotly.express as px\n",
    "fig = px.scatter_3d(non_outliers_df, x='Monetary', y='Frequency', z='Recency', \n",
    "                    color='Cluster', title='Interactive 3D Clusters')\n",
    "fig.show()"
   ]
  },
  {
   "cell_type": "code",
   "execution_count": 0,
   "metadata": {
    "application/vnd.databricks.v1+cell": {
     "cellMetadata": {
      "byteLimit": 2048000,
      "rowLimit": 10000
     },
     "inputWidgets": {},
     "nuid": "704a16e1-5814-4994-90e0-427058bc356b",
     "showTitle": false,
     "tableResultSettingsMap": {},
     "title": ""
    }
   },
   "outputs": [],
   "source": [
    "import matplotlib.pyplot as plt\n",
    "import numpy as np\n",
    "\n",
    "# Get unique cluster labels dynamically\n",
    "unique_clusters = non_outliers_df['Cluster'].unique()\n",
    "unique_clusters = unique_clusters[~np.isnan(unique_clusters)]\n",
    "\n",
    "# Generate colors for all clusters\n",
    "color_palette = ['#1f77b4', '#ff7f0e', '#2ca02c', '#d62728', '#9467bd', '#8c564b', '#e377c2', '#7f7f7f', '#bcbd22', '#17becf']\n",
    "\n",
    "cluster_colors = {}\n",
    "for i, cluster in enumerate(unique_clusters):\n",
    "    cluster_colors[cluster] = color_palette[i % len(color_palette)]\n",
    "\n",
    "# Map cluster colors and handle NaN values\n",
    "colors = non_outliers_df['Cluster'].map(cluster_colors)\n",
    "colors = colors.fillna('#000000')\n",
    "\n",
    "fig = plt.figure(figsize=(10, 10))\n",
    "ax = fig.add_subplot(111, projection='3d')\n",
    "\n",
    "scatter = ax.scatter(non_outliers_df['Monetary'], \n",
    "                     non_outliers_df['Frequency'], \n",
    "                     non_outliers_df['Recency'], \n",
    "                     c=colors,\n",
    "                     marker='o')\n",
    "\n",
    "ax.set_xlabel('Monetary Value')\n",
    "ax.set_ylabel('Frequency')\n",
    "ax.set_zlabel('Recency')\n",
    "ax.set_title(f'3D Scatter Plot - Customer Clusters (k={len(unique_clusters)})')\n",
    "\n",
    "# Force z-axis label to display\n",
    "ax.zaxis.set_rotate_label(False)\n",
    "ax.zaxis.label.set_rotation(90)\n",
    "\n",
    "# Create legend\n",
    "legend_elements = []\n",
    "for cluster in unique_clusters:\n",
    "    count = np.sum(non_outliers_df['Cluster'] == cluster)\n",
    "    legend_elements.append(plt.Line2D([0], [0], marker='o', color='w',\n",
    "                                    markerfacecolor=cluster_colors[cluster],\n",
    "                                    markersize=10,\n",
    "                                    label=f'Cluster {int(cluster)} ({count} customers)'))\n",
    "\n",
    "ax.legend(handles=legend_elements, loc='upper left')\n",
    "\n",
    "# Ensure proper layout\n",
    "plt.tight_layout()\n",
    "plt.show()"
   ]
  },
  {
   "cell_type": "code",
   "execution_count": 0,
   "metadata": {
    "application/vnd.databricks.v1+cell": {
     "cellMetadata": {
      "byteLimit": 2048000,
      "rowLimit": 10000
     },
     "inputWidgets": {},
     "nuid": "f0c657bd-e11e-49a4-948a-b7b45a9ea78b",
     "showTitle": false,
     "tableResultSettingsMap": {},
     "title": ""
    }
   },
   "outputs": [],
   "source": [
    "overlap_indices = monetary_outliers_df.index.intersection(frequency_outliers_df.index)\n",
    "\n",
    "monetary_only_outliers = monetary_outliers_df.drop(overlap_indices)\n",
    "frequency_only_outliers = frequency_outliers_df.drop(overlap_indices)\n",
    "monetary_and_frequency_outliers = monetary_outliers_df.loc[overlap_indices]\n",
    "\n",
    "monetary_only_outliers[\"Cluster\"] = -1\n",
    "frequency_only_outliers[\"Cluster\"] = -2\n",
    "monetary_and_frequency_outliers[\"Cluster\"] = -3\n",
    "\n",
    "outlier_clusters_df = pd.concat([monetary_only_outliers, frequency_only_outliers, monetary_and_frequency_outliers])\n",
    "\n",
    "outlier_clusters_df"
   ]
  },
  {
   "cell_type": "code",
   "execution_count": 0,
   "metadata": {
    "application/vnd.databricks.v1+cell": {
     "cellMetadata": {
      "byteLimit": 2048000,
      "rowLimit": 10000
     },
     "inputWidgets": {},
     "nuid": "e2b3cab6-0386-485f-8f3c-7cd8d7054a30",
     "showTitle": false,
     "tableResultSettingsMap": {},
     "title": ""
    }
   },
   "outputs": [],
   "source": [
    "full_clustering_df = pd.concat([non_outliers_df, outlier_clusters_df])\n",
    "\n",
    "full_clustering_df"
   ]
  },
  {
   "cell_type": "markdown",
   "metadata": {
    "application/vnd.databricks.v1+cell": {
     "cellMetadata": {
      "byteLimit": 2048000,
      "rowLimit": 10000
     },
     "inputWidgets": {},
     "nuid": "4ea610cb-cf1f-4a2e-b0b3-fb6e74e3b3e3",
     "showTitle": false,
     "tableResultSettingsMap": {},
     "title": ""
    }
   },
   "source": [
    "### Saving To Tables"
   ]
  },
  {
   "cell_type": "code",
   "execution_count": 0,
   "metadata": {
    "application/vnd.databricks.v1+cell": {
     "cellMetadata": {
      "byteLimit": 2048000,
      "rowLimit": 10000
     },
     "inputWidgets": {},
     "nuid": "50d86f92-76dc-4539-82cd-3e011872f9cd",
     "showTitle": false,
     "tableResultSettingsMap": {},
     "title": ""
    }
   },
   "outputs": [],
   "source": [
    "# Convert Pandas DataFrame to PySpark DataFrame\n",
    "full_clustering_spark_df = spark.createDataFrame(full_clustering_df)\n",
    "\n",
    "# Register the PySpark DataFrame as a temporary view\n",
    "full_clustering_spark_df.createOrReplaceTempView(\"temp_customer_data\")"
   ]
  },
  {
   "cell_type": "code",
   "execution_count": 0,
   "metadata": {
    "application/vnd.databricks.v1+cell": {
     "cellMetadata": {
      "byteLimit": 2048000,
      "implicitDf": true,
      "rowLimit": 10000
     },
     "inputWidgets": {},
     "nuid": "b2d45e97-5ac4-445f-ad37-53af9cf8a8fd",
     "showTitle": false,
     "tableResultSettingsMap": {},
     "title": ""
    }
   },
   "outputs": [],
   "source": [
    "%sql\n",
    "-- Cell 1: Create catalog and schema\n",
    "CREATE CATALOG IF NOT EXISTS retail_analytics;\n",
    "CREATE SCHEMA IF NOT EXISTS retail.ml;\n",
    "\n",
    "-- Cell 2: Register DataFrame as temporary view and create main table\n",
    "-- First register the DataFrame (run in Python cell):\n",
    "-- non_outliers_df.createOrReplaceTempView(\"temp_customer_data\")\n",
    "\n",
    "CREATE OR REPLACE TABLE retail_analytics.ml.customer_rfm_kmeans_clustered\n",
    "USING DELTA\n",
    "AS SELECT *, current_date() as UpdateDate  FROM temp_customer_data;\n",
    "\n",
    "-- Cell 3: Create temporary view with update date for history table  \n",
    "CREATE OR REPLACE TEMPORARY VIEW temp_customer_data_with_date AS\n",
    "SELECT *, current_date() as UpdateDate \n",
    "FROM temp_customer_data;\n",
    "\n",
    "-- Cell 4: Create history table if it doesn't exist\n",
    "CREATE TABLE IF NOT EXISTS retail_analytics.ml.customer_rfm_kmeans_clustered_history\n",
    "USING DELTA\n",
    "AS SELECT * FROM temp_customer_data_with_date WHERE 1=0; -- Creates empty table with schema\n",
    "\n",
    "-- Cell 5: Perform merge (upsert) operation\n",
    "MERGE INTO retail_analytics.ml.customer_rfm_kmeans_clustered_history AS tgt\n",
    "USING temp_customer_data_with_date AS src\n",
    "ON tgt.CustomerID = src.CustomerID AND tgt.UpdateDate = src.UpdateDate\n",
    "WHEN MATCHED THEN UPDATE SET *\n",
    "WHEN NOT MATCHED THEN INSERT *;"
   ]
  }
 ],
 "metadata": {
  "application/vnd.databricks.v1+notebook": {
   "computePreferences": null,
   "dashboards": [],
   "environmentMetadata": {
    "base_environment": "",
    "environment_version": "2"
   },
   "inputWidgetPreferences": null,
   "language": "python",
   "notebookMetadata": {
    "mostRecentlyExecutedCommandWithImplicitDF": {
     "commandId": 5611417135238886,
     "dataframes": [
      "_sqldf"
     ]
    },
    "pythonIndentUnit": 4
   },
   "notebookName": "RFM data clustering",
   "widgets": {}
  },
  "language_info": {
   "name": "python"
  }
 },
 "nbformat": 4,
 "nbformat_minor": 0
}
